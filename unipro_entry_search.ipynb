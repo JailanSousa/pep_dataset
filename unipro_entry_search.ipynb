{
 "cells": [
  {
   "cell_type": "code",
   "execution_count": 1,
   "id": "fe61842b",
   "metadata": {},
   "outputs": [],
   "source": [
    "import warnings\n",
    "\n",
    "warnings.filterwarnings('ignore')\n",
    "\n",
    "import pandas as pd\n",
    "import requests\n",
    "from tqdm import tqdm"
   ]
  },
  {
   "cell_type": "code",
   "execution_count": 2,
   "id": "c64691e2",
   "metadata": {},
   "outputs": [],
   "source": [
    "entries = pd.read_csv('antimicrobial_pep_for_search.csv')"
   ]
  },
  {
   "cell_type": "code",
   "execution_count": 3,
   "id": "d48402c8",
   "metadata": {},
   "outputs": [],
   "source": [
    "uniprot_set = []"
   ]
  },
  {
   "cell_type": "code",
   "execution_count": 4,
   "id": "07e445a6",
   "metadata": {},
   "outputs": [],
   "source": [
    "def get_data(url):\n",
    "    \n",
    "\n",
    "    header = {\n",
    "    'Accept-Encoding': 'gzip, deflate, br',\n",
    "    'Accept-Language': 'pt-BR,pt;q=0.9,en-US;q=0.8,en;q=0.7',\n",
    "    'User-Agent': \"Mozilla/5.0 (X11; Linux x86_64) AppleWebKit/537.36 (KHTML, like Gecko) Chrome/119.0.0.0 Safari/537.36\",\n",
    "    'From': 'jailann22silvasousa@gmail.com'\n",
    "    }\n",
    "    \n",
    "    response = requests.get(url, header)\n",
    "    data = response.content if response.status_code == 200 else None\n",
    "    return data\n",
    "    "
   ]
  },
  {
   "cell_type": "code",
   "execution_count": null,
   "id": "93ca2858",
   "metadata": {},
   "outputs": [],
   "source": [
    "entries_ids = ['P43220', 'P26349', 'P07839', 'Q40378', 'P03397', 'P03404', 'P01317']"
   ]
  },
  {
   "cell_type": "code",
   "execution_count": 5,
   "id": "efb9faa6",
   "metadata": {},
   "outputs": [
    {
     "name": "stderr",
     "output_type": "stream",
     "text": [
      "100%|███████████████████████████████████████████| 76/76 [01:20<00:00,  1.06s/it]"
     ]
    },
    {
     "name": "stdout",
     "output_type": "stream",
     "text": [
      "Finished\n"
     ]
    },
    {
     "name": "stderr",
     "output_type": "stream",
     "text": [
      "\n"
     ]
    }
   ],
   "source": [
    "#fields = 'accession,sequence,length,lineage,organism_name,protein_name,lit_pubmed_id,cc_function'\n",
    "\n",
    "for en in tqdm(entries.Entry):\n",
    "    \n",
    "    url = f'https://rest.uniprot.org/uniprotkb/search?format=xlsx&fields=accession,cc_tissue_specificity&query={en}'\n",
    "    \n",
    "    result = get_data(url)\n",
    "    \n",
    "    uniprot_set.append(pd.read_excel(result))\n",
    "\n",
    "print('Finished')"
   ]
  },
  {
   "cell_type": "code",
   "execution_count": 6,
   "id": "e8c28f53",
   "metadata": {},
   "outputs": [],
   "source": [
    "df_conc = pd.concat(uniprot_set)"
   ]
  },
  {
   "cell_type": "code",
   "execution_count": 10,
   "id": "c4567818",
   "metadata": {},
   "outputs": [],
   "source": [
    "antimicro = pd.read_csv('antimicro_pep_expression_tissue.csv')"
   ]
  },
  {
   "cell_type": "code",
   "execution_count": 11,
   "id": "c531871b",
   "metadata": {},
   "outputs": [],
   "source": [
    "keep_entries = antimicro[antimicro.Keep == 'keep']"
   ]
  },
  {
   "cell_type": "code",
   "execution_count": 13,
   "id": "38d37ca4",
   "metadata": {},
   "outputs": [],
   "source": [
    "k = keep_entries.Entry"
   ]
  },
  {
   "cell_type": "code",
   "execution_count": 15,
   "id": "4ec0cc8d",
   "metadata": {},
   "outputs": [
    {
     "data": {
      "text/plain": [
       "2     P83312\n",
       "3     P83313\n",
       "4     P83314\n",
       "5     C7C1L2\n",
       "6     L0GBQ6\n",
       "7     Q5VJS9\n",
       "8     B5LUQ7\n",
       "9     B5LUQ8\n",
       "10    B5LUQ9\n",
       "12    P31107\n",
       "13    P62568\n",
       "15    P86169\n",
       "16    B5LUQ4\n",
       "17    B5LUR0\n",
       "18    B5LUR1\n",
       "21    P0DUJ6\n",
       "22    P82389\n",
       "23    P82390\n",
       "24    P84276\n",
       "25    Q800R2\n",
       "26    A7WNV3\n",
       "27    A7WNV4\n",
       "28    A7WNV5\n",
       "29    A7WNV6\n",
       "30    A7WNV7\n",
       "31    B6CPR5\n",
       "38    P0DV62\n",
       "39    P56249\n",
       "40    P61508\n",
       "41    P62547\n",
       "42    P81251\n",
       "43    P81252\n",
       "44    P81835\n",
       "45    P82386\n",
       "46    P82391\n",
       "47    P83621\n",
       "48    P84262\n",
       "49    P84274\n",
       "50    P84275\n",
       "51    P84277\n",
       "52    P84278\n",
       "53    P84279\n",
       "54    P84280\n",
       "55    P84281\n",
       "56    P86127\n",
       "57    P86131\n",
       "58    P86485\n",
       "59    P86505\n",
       "61    P80952\n",
       "62    P86136\n",
       "63    P82387\n",
       "64    Q8MMJ7\n",
       "Name: Entry, dtype: object"
      ]
     },
     "execution_count": 15,
     "metadata": {},
     "output_type": "execute_result"
    }
   ],
   "source": [
    "k"
   ]
  },
  {
   "cell_type": "code",
   "execution_count": 14,
   "id": "bf0024b5",
   "metadata": {},
   "outputs": [],
   "source": [
    "dataset = pd.read_csv('datasets_versions/pep_dataset_processed.csv')"
   ]
  },
  {
   "cell_type": "code",
   "execution_count": 29,
   "id": "4c097da0",
   "metadata": {},
   "outputs": [],
   "source": [
    "antimicrobial = []\n",
    "for i in dataset.values:\n",
    "    \n",
    "    for j in k.values:\n",
    "        \n",
    "        if i[0] == j:\n",
    "            antimicrobial.append(i)"
   ]
  },
  {
   "cell_type": "code",
   "execution_count": 30,
   "id": "ff902f32",
   "metadata": {},
   "outputs": [],
   "source": [
    "df = pd.DataFrame(antimicrobial)"
   ]
  },
  {
   "cell_type": "code",
   "execution_count": 31,
   "id": "662f83e9",
   "metadata": {},
   "outputs": [],
   "source": [
    "df.to_csv('antimicrobial_pep_included_in_docking.csv', index=False)"
   ]
  },
  {
   "cell_type": "code",
   "execution_count": null,
   "id": "91151cff",
   "metadata": {},
   "outputs": [],
   "source": []
  }
 ],
 "metadata": {
  "kernelspec": {
   "display_name": "Python 3 (ipykernel)",
   "language": "python",
   "name": "python3"
  },
  "language_info": {
   "codemirror_mode": {
    "name": "ipython",
    "version": 3
   },
   "file_extension": ".py",
   "mimetype": "text/x-python",
   "name": "python",
   "nbconvert_exporter": "python",
   "pygments_lexer": "ipython3",
   "version": "3.11.5"
  }
 },
 "nbformat": 4,
 "nbformat_minor": 5
}
