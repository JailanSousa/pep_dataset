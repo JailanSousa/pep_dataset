{
 "cells": [
  {
   "cell_type": "code",
   "execution_count": 10,
   "id": "fe61842b",
   "metadata": {},
   "outputs": [],
   "source": [
    "import warnings\n",
    "\n",
    "warnings.filterwarnings('ignore')\n",
    "\n",
    "import pandas as pd\n",
    "import requests"
   ]
  },
  {
   "cell_type": "code",
   "execution_count": 2,
   "id": "c64691e2",
   "metadata": {},
   "outputs": [],
   "source": [
    "entries = pd.read_csv('no_pdb_entries.csv')"
   ]
  },
  {
   "cell_type": "code",
   "execution_count": 11,
   "id": "d48402c8",
   "metadata": {},
   "outputs": [],
   "source": [
    "uniprot_set = []"
   ]
  },
  {
   "cell_type": "code",
   "execution_count": 12,
   "id": "07e445a6",
   "metadata": {},
   "outputs": [],
   "source": [
    "def get_data(url):\n",
    "    \n",
    "\n",
    "    header = {\n",
    "    'Accept-Encoding': 'gzip, deflate, br',\n",
    "    'Accept-Language': 'pt-BR,pt;q=0.9,en-US;q=0.8,en;q=0.7',\n",
    "    'User-Agent': \"Mozilla/5.0 (X11; Linux x86_64) AppleWebKit/537.36 (KHTML, like Gecko) Chrome/119.0.0.0 Safari/537.36\",\n",
    "    'From': 'jailann22silvasousa@gmail.com'\n",
    "    }\n",
    "    \n",
    "    response = requests.get(url, header)\n",
    "    data = response.content if response.status_code == 200 else None\n",
    "    return data\n",
    "    "
   ]
  },
  {
   "cell_type": "code",
   "execution_count": 13,
   "id": "93ca2858",
   "metadata": {},
   "outputs": [],
   "source": [
    "entries_ids = ['P43220', 'P26349', 'P07839', 'Q40378', 'P03397', 'P03404', 'P01317']"
   ]
  },
  {
   "cell_type": "code",
   "execution_count": 15,
   "id": "efb9faa6",
   "metadata": {},
   "outputs": [
    {
     "name": "stdout",
     "output_type": "stream",
     "text": [
      "Finished\n"
     ]
    }
   ],
   "source": [
    "#fields = 'accession,sequence,length,lineage,organism_name,protein_name,lit_pubmed_id,cc_function'\n",
    "\n",
    "for en in entries_ids:\n",
    "    \n",
    "    url = f'https://rest.uniprot.org/uniprotkb/search?format=xlsx&fields=accession,structure_3d&query={en}'\n",
    "    \n",
    "    result = get_data(url)\n",
    "    \n",
    "    uniprot_set.append(pd.read_excel(result))\n",
    "\n",
    "print('Finished')"
   ]
  },
  {
   "cell_type": "code",
   "execution_count": 16,
   "id": "e8c28f53",
   "metadata": {},
   "outputs": [],
   "source": [
    "df_conc = pd.concat(uniprot_set)\n",
    "df_conc.to_csv('3d_structure_tst.csv', index=False)"
   ]
  },
  {
   "cell_type": "code",
   "execution_count": null,
   "id": "c4567818",
   "metadata": {},
   "outputs": [],
   "source": []
  }
 ],
 "metadata": {
  "kernelspec": {
   "display_name": "Python 3 (ipykernel)",
   "language": "python",
   "name": "python3"
  },
  "language_info": {
   "codemirror_mode": {
    "name": "ipython",
    "version": 3
   },
   "file_extension": ".py",
   "mimetype": "text/x-python",
   "name": "python",
   "nbconvert_exporter": "python",
   "pygments_lexer": "ipython3",
   "version": "3.11.5"
  }
 },
 "nbformat": 4,
 "nbformat_minor": 5
}
