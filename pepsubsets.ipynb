{
 "cells": [
  {
   "cell_type": "code",
   "execution_count": 1,
   "id": "06222e06-2a63-4931-876e-82f4a5696794",
   "metadata": {},
   "outputs": [],
   "source": [
    "import warnings\n",
    "warnings.filterwarnings('ignore')\n",
    "\n",
    "import pandas as pd"
   ]
  },
  {
   "cell_type": "markdown",
   "id": "e641dd39-5bed-409b-9ae6-234bc5de6cda",
   "metadata": {},
   "source": [
    "## Get PTM sequences"
   ]
  },
  {
   "cell_type": "code",
   "execution_count": 2,
   "id": "b49aa82d-6d98-44e0-af67-ccfd29c2bd32",
   "metadata": {},
   "outputs": [],
   "source": [
    "data = pd.read_csv('pep_modelling_set.csv')"
   ]
  },
  {
   "cell_type": "code",
   "execution_count": 3,
   "id": "1d1220b7-dc2b-4710-841b-b2c8b5c4ad7d",
   "metadata": {},
   "outputs": [],
   "source": [
    "aa_ptm = data[data['Sequence'].str.contains('X')]"
   ]
  },
  {
   "cell_type": "code",
   "execution_count": 4,
   "id": "854ca607-0710-403d-9274-eae6b7d0d461",
   "metadata": {},
   "outputs": [],
   "source": [
    "index = aa_ptm.index"
   ]
  },
  {
   "cell_type": "code",
   "execution_count": 7,
   "id": "926aacb0-c65d-464e-b280-a011065e6a24",
   "metadata": {},
   "outputs": [],
   "source": [
    "aa_ptm.to_csv('subsetptm_processing.csv', index=False)"
   ]
  },
  {
   "cell_type": "code",
   "execution_count": 5,
   "id": "710c4321-ec0c-4cf4-88ac-5fe6be2bd4ee",
   "metadata": {},
   "outputs": [],
   "source": [
    "data.drop(index=index, inplace=True)"
   ]
  },
  {
   "cell_type": "code",
   "execution_count": 8,
   "id": "65d10388-786b-4592-b17b-abc915257640",
   "metadata": {},
   "outputs": [],
   "source": [
    "data.to_csv('pep_modelling_stdr.csv', index=False)"
   ]
  },
  {
   "cell_type": "markdown",
   "id": "adb19445-124d-417b-8f46-e1d33535f258",
   "metadata": {},
   "source": [
    "## Get uniprot id"
   ]
  },
  {
   "cell_type": "code",
   "execution_count": 2,
   "id": "830098dc-a6b8-42a8-99d8-0503d171adf7",
   "metadata": {},
   "outputs": [],
   "source": [
    "data = pd.read_csv('pep_modelling_set.csv')"
   ]
  },
  {
   "cell_type": "code",
   "execution_count": 3,
   "id": "a8825bf8-bf95-4ece-9f4f-e38d4d2e5b1f",
   "metadata": {},
   "outputs": [],
   "source": [
    "pdb = data[data['DBSOURCE'] == 'pdb']"
   ]
  },
  {
   "cell_type": "code",
   "execution_count": 4,
   "id": "8f97edbb-cc65-4a7e-89df-114157703579",
   "metadata": {},
   "outputs": [],
   "source": [
    "pdb.to_csv('pdb_entry.csv', index=False)"
   ]
  },
  {
   "cell_type": "code",
   "execution_count": null,
   "id": "d74e81b9-2f69-4638-9cbe-21a85d3ba12f",
   "metadata": {},
   "outputs": [],
   "source": []
  }
 ],
 "metadata": {
  "kernelspec": {
   "display_name": "Python 3 (ipykernel)",
   "language": "python",
   "name": "python3"
  },
  "language_info": {
   "codemirror_mode": {
    "name": "ipython",
    "version": 3
   },
   "file_extension": ".py",
   "mimetype": "text/x-python",
   "name": "python",
   "nbconvert_exporter": "python",
   "pygments_lexer": "ipython3",
   "version": "3.10.12"
  }
 },
 "nbformat": 4,
 "nbformat_minor": 5
}
