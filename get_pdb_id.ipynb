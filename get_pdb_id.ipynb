{
 "cells": [
  {
   "cell_type": "code",
   "execution_count": 1,
   "id": "ab224ebe",
   "metadata": {},
   "outputs": [],
   "source": [
    "import warnings\n",
    "\n",
    "warnings.filterwarnings('ignore')\n",
    "\n",
    "import json\n",
    "from tqdm import tqdm\n",
    "import pandas as pd\n",
    "import requests\n",
    "import re"
   ]
  },
  {
   "cell_type": "markdown",
   "id": "d4d62c09",
   "metadata": {},
   "source": [
    "## split pdb apart"
   ]
  },
  {
   "cell_type": "code",
   "execution_count": 2,
   "id": "206a1e4e",
   "metadata": {},
   "outputs": [],
   "source": [
    "pep_set = pd.read_csv('venom_pep.csv')"
   ]
  },
  {
   "cell_type": "code",
   "execution_count": null,
   "id": "53ff699e",
   "metadata": {},
   "outputs": [],
   "source": [
    "entries = pep_set[pep_set['DBSOURCE'] != 'pdb:']"
   ]
  },
  {
   "cell_type": "code",
   "execution_count": null,
   "id": "bb687f98",
   "metadata": {},
   "outputs": [],
   "source": [
    "entries.shape"
   ]
  },
  {
   "cell_type": "markdown",
   "id": "151a175d",
   "metadata": {},
   "source": [
    "## Get pdb code"
   ]
  },
  {
   "cell_type": "code",
   "execution_count": 3,
   "id": "ae0e6bff",
   "metadata": {},
   "outputs": [],
   "source": [
    "codes_list = []"
   ]
  },
  {
   "cell_type": "code",
   "execution_count": 4,
   "id": "b2fa7b54",
   "metadata": {},
   "outputs": [],
   "source": [
    "def get_data(url):\n",
    "    \n",
    "\n",
    "    header = {\n",
    "    'Accept-Encoding': 'gzip, deflate, br',\n",
    "    'Accept-Language': 'pt-BR,pt;q=0.9,en-US;q=0.8,en;q=0.7',\n",
    "    'User-Agent': \"Mozilla/5.0 (X11; Linux x86_64) AppleWebKit/537.36 (KHTML, like Gecko) Chrome/119.0.0.0 Safari/537.36\",\n",
    "    'From': 'jailann22silvasousa@gmail.com'\n",
    "    }\n",
    "    try:\n",
    "        response = requests.get(url, header)\n",
    "        response.raise_for_status\n",
    "        data = response.content\n",
    "        return data\n",
    "    except requests.exceptions.HTTPError as err:\n",
    "        raise SystemError(err)\n",
    "    "
   ]
  },
  {
   "cell_type": "code",
   "execution_count": null,
   "id": "87895e92",
   "metadata": {},
   "outputs": [],
   "source": [
    "entries_ids = ['B3EWX2']\n",
    "# 'P43220', 'P03397','P26349', 'P07839', 'Q40378', 'P03397', 'P03404', 'P01317'"
   ]
  },
  {
   "cell_type": "code",
   "execution_count": 5,
   "id": "bca9edd7",
   "metadata": {},
   "outputs": [
    {
     "name": "stderr",
     "output_type": "stream",
     "text": [
      "100%|█████████████████████████████████████████| 779/779 [18:32<00:00,  1.43s/it]"
     ]
    },
    {
     "name": "stdout",
     "output_type": "stream",
     "text": [
      "Finished\n"
     ]
    },
    {
     "name": "stderr",
     "output_type": "stream",
     "text": [
      "\n"
     ]
    }
   ],
   "source": [
    "for en in tqdm(pep_set.Entry):\n",
    "\n",
    "    \n",
    "    url = f'https://rest.uniprot.org/uniprotkb/search?format=json&fields=structure_3d&query={en}'\n",
    "    \n",
    "    strings = str(get_data(url), 'utf-8')\n",
    "    \n",
    "    pdb = re.findall(r'\\b[1-9]{1}[0-9A-Z]{3}\\b', strings)\n",
    "    resolution = re.findall(r'[0-9]\\.[0-9 A]+|\"-\"', strings)\n",
    "    \n",
    "    if not pdb:\n",
    "        pdb = ['null']\n",
    "    if not resolution:\n",
    "        resolution = ['null']\n",
    "        \n",
    "    \n",
    "    for code, res in zip(pdb, resolution):\n",
    "    \n",
    "        codes = {\n",
    "                'entry':en,\n",
    "                'pdb_code':code,\n",
    "                'resolution':res\n",
    "                }\n",
    "    \n",
    "        codes_list.append(codes)\n",
    "    \n",
    "    \n",
    "    \n",
    "\n",
    "print('Finished')"
   ]
  },
  {
   "cell_type": "code",
   "execution_count": null,
   "id": "8976078a",
   "metadata": {},
   "outputs": [],
   "source": [
    "print(codes_list)"
   ]
  },
  {
   "cell_type": "code",
   "execution_count": 6,
   "id": "81364ca1",
   "metadata": {},
   "outputs": [],
   "source": [
    "df = pd.DataFrame(codes_list)"
   ]
  },
  {
   "cell_type": "code",
   "execution_count": 7,
   "id": "eb48da27",
   "metadata": {},
   "outputs": [],
   "source": [
    "df.to_csv('venom_pep_pdbcode.csv', index=False)"
   ]
  },
  {
   "cell_type": "code",
   "execution_count": null,
   "id": "5d0ac25f",
   "metadata": {},
   "outputs": [],
   "source": []
  }
 ],
 "metadata": {
  "kernelspec": {
   "display_name": "Python 3 (ipykernel)",
   "language": "python",
   "name": "python3"
  },
  "language_info": {
   "codemirror_mode": {
    "name": "ipython",
    "version": 3
   },
   "file_extension": ".py",
   "mimetype": "text/x-python",
   "name": "python",
   "nbconvert_exporter": "python",
   "pygments_lexer": "ipython3",
   "version": "3.10.12"
  }
 },
 "nbformat": 4,
 "nbformat_minor": 5
}
