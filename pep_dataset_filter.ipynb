{
 "cells": [
  {
   "cell_type": "markdown",
   "id": "6c8fb6a4",
   "metadata": {},
   "source": [
    "## Filtering dataset for LitSuggest model training"
   ]
  },
  {
   "cell_type": "code",
   "execution_count": 1,
   "id": "59f0817a",
   "metadata": {},
   "outputs": [],
   "source": [
    "import pandas as pd\n",
    "import re"
   ]
  },
  {
   "cell_type": "code",
   "execution_count": 6,
   "id": "33f3eeae",
   "metadata": {},
   "outputs": [],
   "source": [
    "dataset = pd.read_csv('pep_dataset_processed.csv')"
   ]
  },
  {
   "cell_type": "code",
   "execution_count": 22,
   "id": "b980d1a1",
   "metadata": {},
   "outputs": [],
   "source": [
    "filted = dataset[dataset['LitSuggest'] == 'Included']"
   ]
  },
  {
   "cell_type": "code",
   "execution_count": 23,
   "id": "9eea3ebe",
   "metadata": {},
   "outputs": [],
   "source": [
    "filted.to_csv('pep_dataset_filted.csv', index=False)"
   ]
  },
  {
   "cell_type": "markdown",
   "id": "3a45014f",
   "metadata": {},
   "source": [
    "## Get PubMed IDs"
   ]
  },
  {
   "cell_type": "code",
   "execution_count": 11,
   "id": "886467a4",
   "metadata": {},
   "outputs": [],
   "source": [
    "def pmd(pmd):\n",
    "    \n",
    "    # convert each id into a whole string\n",
    "    text = ''\n",
    "    for x in pmd:\n",
    "        text += str(x) + '; '\n",
    "    \n",
    "    # convert into a organized list\n",
    "    newtext = text.replace('\\n', ';')\n",
    "    pmdid = newtext.split(';')\n",
    "    \n",
    "    # formating each id\n",
    "    pmdid_list = []\n",
    "    for ids in pmdid:\n",
    "    \n",
    "        pmdid_list.append(\"\".join(re.findall(r'\\d+', ids)))\n",
    "    \n",
    "    # concert into a Dataframe\n",
    "    ids = {'pmid': pmdid_list}\n",
    "    df = pd.DataFrame(ids)\n",
    "    \n",
    "    return df    \n",
    "    "
   ]
  },
  {
   "cell_type": "markdown",
   "id": "7f3c4d19",
   "metadata": {},
   "source": [
    "## GET negatives PubMed ID"
   ]
  },
  {
   "cell_type": "code",
   "execution_count": 7,
   "id": "3514e3f3",
   "metadata": {},
   "outputs": [],
   "source": [
    "negative = dataset[dataset['ShortFunction'] == 'non insecticide']"
   ]
  },
  {
   "cell_type": "code",
   "execution_count": 10,
   "id": "12686cc9",
   "metadata": {},
   "outputs": [],
   "source": [
    "neg_ids = negative['PubMed ID']"
   ]
  },
  {
   "cell_type": "code",
   "execution_count": 13,
   "id": "8d036894",
   "metadata": {},
   "outputs": [],
   "source": [
    "df = pmd(neg_ids)"
   ]
  },
  {
   "cell_type": "code",
   "execution_count": 14,
   "id": "5cf6956d",
   "metadata": {},
   "outputs": [],
   "source": [
    "negatives = df.dropna().drop_duplicates(keep='first')\n",
    "negatives.to_csv('negatives_pmd.csv', index=False)"
   ]
  },
  {
   "cell_type": "markdown",
   "id": "75642329",
   "metadata": {},
   "source": [
    "## Get positives PubMed ID"
   ]
  },
  {
   "cell_type": "code",
   "execution_count": 82,
   "id": "1dfe765a",
   "metadata": {},
   "outputs": [],
   "source": [
    "dataset_filted = pd.read_csv('pep_dataset_filted.csv')"
   ]
  },
  {
   "cell_type": "code",
   "execution_count": 124,
   "id": "0d01a835",
   "metadata": {},
   "outputs": [],
   "source": [
    "positive = dataset_filted['PubMed ID']"
   ]
  },
  {
   "cell_type": "code",
   "execution_count": null,
   "id": "944692d4",
   "metadata": {},
   "outputs": [],
   "source": [
    "df = pmd(positive)"
   ]
  },
  {
   "cell_type": "code",
   "execution_count": 203,
   "id": "0ef85fc8",
   "metadata": {},
   "outputs": [],
   "source": [
    "positives = df.dropna().drop_duplicates(keep='first')\n",
    "positives.to_csv('pmd_input.csv', index=False)"
   ]
  }
 ],
 "metadata": {
  "kernelspec": {
   "display_name": "Python 3 (ipykernel)",
   "language": "python",
   "name": "python3"
  },
  "language_info": {
   "codemirror_mode": {
    "name": "ipython",
    "version": 3
   },
   "file_extension": ".py",
   "mimetype": "text/x-python",
   "name": "python",
   "nbconvert_exporter": "python",
   "pygments_lexer": "ipython3",
   "version": "3.11.5"
  }
 },
 "nbformat": 4,
 "nbformat_minor": 5
}
