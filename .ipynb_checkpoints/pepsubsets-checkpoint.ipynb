{
 "cells": [
  {
   "cell_type": "code",
   "execution_count": 1,
   "id": "06222e06-2a63-4931-876e-82f4a5696794",
   "metadata": {},
   "outputs": [],
   "source": [
    "import warnings\n",
    "warnings.filterwarnings('ignore')\n",
    "\n",
    "import pandas as pd"
   ]
  },
  {
   "cell_type": "markdown",
   "id": "e641dd39-5bed-409b-9ae6-234bc5de6cda",
   "metadata": {},
   "source": [
    "## Get PTM sequences"
   ]
  },
  {
   "cell_type": "code",
   "execution_count": null,
   "id": "b49aa82d-6d98-44e0-af67-ccfd29c2bd32",
   "metadata": {},
   "outputs": [],
   "source": [
    "data = pd.read_csv('pep_modelling_set.csv')"
   ]
  },
  {
   "cell_type": "code",
   "execution_count": null,
   "id": "1d1220b7-dc2b-4710-841b-b2c8b5c4ad7d",
   "metadata": {},
   "outputs": [],
   "source": [
    "aa_ptm = data[data['Sequence'].str.contains('X')]"
   ]
  },
  {
   "cell_type": "code",
   "execution_count": null,
   "id": "854ca607-0710-403d-9274-eae6b7d0d461",
   "metadata": {},
   "outputs": [],
   "source": [
    "index = aa_ptm.index"
   ]
  },
  {
   "cell_type": "code",
   "execution_count": null,
   "id": "926aacb0-c65d-464e-b280-a011065e6a24",
   "metadata": {},
   "outputs": [],
   "source": [
    "aa_ptm.to_csv('subsetptm_processing.csv', index=False)"
   ]
  },
  {
   "cell_type": "code",
   "execution_count": null,
   "id": "710c4321-ec0c-4cf4-88ac-5fe6be2bd4ee",
   "metadata": {},
   "outputs": [],
   "source": [
    "data.drop(index=index, inplace=True)"
   ]
  },
  {
   "cell_type": "code",
   "execution_count": null,
   "id": "65d10388-786b-4592-b17b-abc915257640",
   "metadata": {},
   "outputs": [],
   "source": [
    "data.to_csv('pep_modelling_stdr.csv', index=False)"
   ]
  },
  {
   "cell_type": "markdown",
   "id": "adb19445-124d-417b-8f46-e1d33535f258",
   "metadata": {},
   "source": [
    "## Get uniprot id"
   ]
  },
  {
   "cell_type": "code",
   "execution_count": null,
   "id": "830098dc-a6b8-42a8-99d8-0503d171adf7",
   "metadata": {},
   "outputs": [],
   "source": [
    "data = pd.read_csv('pep_modelling_set.csv')"
   ]
  },
  {
   "cell_type": "code",
   "execution_count": null,
   "id": "a8825bf8-bf95-4ece-9f4f-e38d4d2e5b1f",
   "metadata": {},
   "outputs": [],
   "source": [
    "pdb = data[data['DBSOURCE'] == 'pdb']"
   ]
  },
  {
   "cell_type": "code",
   "execution_count": null,
   "id": "8f97edbb-cc65-4a7e-89df-114157703579",
   "metadata": {},
   "outputs": [],
   "source": [
    "pdb.to_csv('pdb_entry.csv', index=False)"
   ]
  },
  {
   "cell_type": "markdown",
   "id": "935095b4-a903-45c2-8ac3-679711193fbb",
   "metadata": {},
   "source": [
    "## Replace pdb entry"
   ]
  },
  {
   "cell_type": "code",
   "execution_count": null,
   "id": "890a4b6d-2a5a-4b71-a309-441ad29e51a3",
   "metadata": {},
   "outputs": [],
   "source": [
    "data = pd.read_csv('neurotoxic_pepset.csv')"
   ]
  },
  {
   "cell_type": "code",
   "execution_count": null,
   "id": "97b144e2-1fd1-4cd2-aea5-9c96a9417f79",
   "metadata": {},
   "outputs": [],
   "source": [
    "accession = data[data['ShortFunction'] != r'Antimicrobial$']"
   ]
  },
  {
   "cell_type": "code",
   "execution_count": null,
   "id": "2ce6c270-9b82-46fa-aac6-f6b200eb7cce",
   "metadata": {},
   "outputs": [],
   "source": [
    "accession.to_csv('neurotoxic_pepset1.csv', index=False)"
   ]
  },
  {
   "cell_type": "code",
   "execution_count": null,
   "id": "86ebfb2a-2a1c-43c4-aba5-5588566938c5",
   "metadata": {},
   "outputs": [],
   "source": [
    "amt_index = []\n",
    "for i in range(len(data)):\n",
    "    if data.ShortFunction[i] == 'Antimicrobial' or data.ShortFunction[i] == 'Antimicrobial':\n",
    "        amt_index.append(i)\n",
    "\n",
    "\n",
    "\n",
    "accession = data.drop(index=amt_index)"
   ]
  },
  {
   "cell_type": "code",
   "execution_count": null,
   "id": "6e32fea5-37c8-4614-aa57-635d3bdadeee",
   "metadata": {},
   "outputs": [],
   "source": [
    "accession.to_csv('neurotoxic_pepset1.csv', index=False)"
   ]
  },
  {
   "cell_type": "code",
   "execution_count": null,
   "id": "941fb8d9-144e-404d-8a0a-9789126856b2",
   "metadata": {},
   "outputs": [],
   "source": [
    "data = pd.read_csv('all_pepset.csv')"
   ]
  },
  {
   "cell_type": "code",
   "execution_count": null,
   "id": "63b281c9-5fe8-45b0-a188-e33101144d4e",
   "metadata": {},
   "outputs": [],
   "source": [
    "prob = data[data['ShortFunction'].str.contains('probable', na=False)]"
   ]
  },
  {
   "cell_type": "code",
   "execution_count": null,
   "id": "04f94087-3d71-4b3f-a3d8-d4002c931b76",
   "metadata": {},
   "outputs": [],
   "source": [
    "prob.to_csv('probale_neurotoxins.csv', index=False)"
   ]
  },
  {
   "cell_type": "markdown",
   "id": "588492c5-40b3-46e1-b945-0e9d61846a1f",
   "metadata": {},
   "source": [
    "## Get actives"
   ]
  },
  {
   "cell_type": "code",
   "execution_count": 2,
   "id": "c5e96076-dc9a-4e02-826d-4deeabc15a5a",
   "metadata": {},
   "outputs": [],
   "source": [
    "data = pd.read_csv(\"dataset.csv\", keep_default_na=True)"
   ]
  },
  {
   "cell_type": "code",
   "execution_count": 6,
   "id": "0883167b-3587-47e1-aa90-65ba166f1636",
   "metadata": {},
   "outputs": [],
   "source": [
    "actives = []\n",
    "for i in range(len(data)):\n",
    "\n",
    "    if 'Nav' in data.ShortFunction[i]:\n",
    "        if 'insect' in data.ShortFunction[i]:\n",
    "            actives.append(i)"
   ]
  },
  {
   "cell_type": "code",
   "execution_count": 8,
   "id": "bfbd4e0e-480b-4421-9c23-c059fbecf423",
   "metadata": {},
   "outputs": [],
   "source": [
    "candidates = data.drop(index=actives)"
   ]
  },
  {
   "cell_type": "code",
   "execution_count": 9,
   "id": "ccdd4b4e-b5e5-4a73-9a6f-cd471279c104",
   "metadata": {},
   "outputs": [
    {
     "data": {
      "text/plain": [
       "(1699, 11)"
      ]
     },
     "execution_count": 9,
     "metadata": {},
     "output_type": "execute_result"
    }
   ],
   "source": [
    "candidates.shape"
   ]
  },
  {
   "cell_type": "code",
   "execution_count": 10,
   "id": "41aef83a-5db3-40bc-be0b-3869d3e1aa23",
   "metadata": {},
   "outputs": [],
   "source": [
    "candidates.to_csv('candidates.csv', index=False)"
   ]
  },
  {
   "cell_type": "code",
   "execution_count": 19,
   "id": "36212c4f-074d-440d-ac7a-102353ddeb01",
   "metadata": {},
   "outputs": [],
   "source": [
    "PDB_candidates = candidates.dropna()"
   ]
  },
  {
   "cell_type": "code",
   "execution_count": 21,
   "id": "5e9afb41-7260-4326-9c17-1d488639fe0d",
   "metadata": {},
   "outputs": [],
   "source": [
    "PDB_candidates.to_csv('PDB_candidates.csv', index=False)"
   ]
  },
  {
   "cell_type": "code",
   "execution_count": null,
   "id": "d509cbba-5e3b-41f6-9753-39f90d4a689a",
   "metadata": {},
   "outputs": [],
   "source": [
    "positives = data.iloc[actives] "
   ]
  },
  {
   "cell_type": "code",
   "execution_count": null,
   "id": "a3139a67-ad45-45a3-bdf3-b1c061e3c2bc",
   "metadata": {},
   "outputs": [],
   "source": [
    "positives_pdb = positives[positives['PDB'] != '' ]"
   ]
  },
  {
   "cell_type": "code",
   "execution_count": null,
   "id": "7b91b16a-8eef-438f-8632-6bc8e274f55a",
   "metadata": {},
   "outputs": [],
   "source": [
    "positives.to_csv(\"/home/jssousa/mestrado/modeling_pep/actives.csv\", index=False)"
   ]
  },
  {
   "cell_type": "code",
   "execution_count": null,
   "id": "aaac33dd-3ae6-48e1-8c38-18acff930d69",
   "metadata": {},
   "outputs": [],
   "source": [
    "positives_pdb.to_csv(\"/home/jssousa/mestrado/modeling_pep/actives_pdb.csv\", index=False)"
   ]
  },
  {
   "cell_type": "code",
   "execution_count": null,
   "id": "3dee9f7b-dfdf-420b-906c-d5aa4d1b8933",
   "metadata": {},
   "outputs": [],
   "source": [
    "active_moldeling = positives[positives['PDB'].isnull()]"
   ]
  },
  {
   "cell_type": "code",
   "execution_count": null,
   "id": "816d6c74-db5f-4a2c-a537-9768f9dcda63",
   "metadata": {},
   "outputs": [],
   "source": [
    "active_moldeling.to_csv(\"/home/jssousa/mestrado/modeling_pep/actives_modelling.csv\", index=False)"
   ]
  },
  {
   "cell_type": "code",
   "execution_count": null,
   "id": "86856efa-9438-4b47-9ecf-dfc5191e8e75",
   "metadata": {},
   "outputs": [],
   "source": []
  }
 ],
 "metadata": {
  "kernelspec": {
   "display_name": "ml_models",
   "language": "python",
   "name": "ml_models"
  },
  "language_info": {
   "codemirror_mode": {
    "name": "ipython",
    "version": 3
   },
   "file_extension": ".py",
   "mimetype": "text/x-python",
   "name": "python",
   "nbconvert_exporter": "python",
   "pygments_lexer": "ipython3",
   "version": "3.12.2"
  }
 },
 "nbformat": 4,
 "nbformat_minor": 5
}
